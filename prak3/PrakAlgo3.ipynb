{
 "cells": [
  {
   "cell_type": "code",
   "execution_count": 6,
   "metadata": {},
   "outputs": [
    {
     "name": "stdout",
     "output_type": "stream",
     "text": [
      "\n",
      "@@@@ @@       @@    @@    @@@     @@@@@@  \n",
      "@@  @@        @@  @@    @@ @@   @@    @@ \n",
      "@@  @@         @@@@    @@   @@  @@       \n",
      "@@  @@          @@    @@     @@  @@@@@@  \n",
      "@@  @@          @@    @@@@@@@@@       @@ \n",
      "@@  @@          @@    @@     @@ @@    @@ \n",
      "@@@@ @@@@       @@    @@     @@  @@@@@@  \n",
      "\n"
     ]
    }
   ],
   "source": [
    "teks_ascii = '''\n",
    "@@@@ @@       @@    @@    @@@     @@@@@@  \n",
    "@@  @@        @@  @@    @@ @@   @@    @@ \n",
    "@@  @@         @@@@    @@   @@  @@       \n",
    "@@  @@          @@    @@     @@  @@@@@@  \n",
    "@@  @@          @@    @@@@@@@@@       @@ \n",
    "@@  @@          @@    @@     @@ @@    @@ \n",
    "@@@@ @@@@       @@    @@     @@  @@@@@@  \n",
    "'''\n",
    "\n",
    "print(teks_ascii)"
   ]
  },
  {
   "cell_type": "code",
   "execution_count": 2,
   "metadata": {},
   "outputs": [
    {
     "name": "stdout",
     "output_type": "stream",
     "text": [
      "Angka dalam rentang tersebut adalah:\n",
      "20|40\n",
      "21|39\n",
      "22|38\n",
      "23|37\n",
      "24|36\n",
      "25|35\n",
      "26|34\n",
      "27|33\n",
      "28|32\n",
      "29|31\n",
      "30|30\n"
     ]
    }
   ],
   "source": [
    "# Menerima input dari pengguna untuk angka awal dan angka akhir\n",
    "angka_awal = int(input(\"Masukkan angka awal: \"))\n",
    "angka_akhir = int(input(\"Masukkan angka akhir: \"))\n",
    "\n",
    "# Menampilkan angka dalam format yang diminta\n",
    "print(\"Angka dalam rentang tersebut adalah:\")\n",
    "while angka_awal <= angka_akhir:\n",
    "    print(f\"{angka_awal}|{angka_akhir}\")\n",
    "    angka_awal += 1\n",
    "    angka_akhir -= 1"
   ]
  },
  {
   "cell_type": "code",
   "execution_count": 10,
   "metadata": {},
   "outputs": [
    {
     "name": "stdout",
     "output_type": "stream",
     "text": [
      "Kembalian Anda adalah: 15000.0 IDR\n",
      "Besaran uang lembar dari kembalian:\n",
      "1 lembar uang 10000 IDR\n",
      "1 lembar uang 5000 IDR\n"
     ]
    }
   ],
   "source": [
    "# Menerima input total harga belanjaan dan jumlah uang yang diberikan\n",
    "total_harga = float(input(\"Masukkan total harga belanjaan: \"))\n",
    "jumlah_uang = float(input(\"Masukkan jumlah uang yang diberikan: \"))\n",
    "\n",
    "# Menghitung kembalian\n",
    "kembalian = jumlah_uang - total_harga\n",
    "\n",
    "# Menampilkan kembalian\n",
    "print(f\"Kembalian Anda adalah: {kembalian} IDR\")\n",
    "\n",
    "# Menghitung besaran uang lembar dari kembalian\n",
    "besaran_uang = {\n",
    "    '100000': 0,\n",
    "    '50000': 0,\n",
    "    '20000': 0,\n",
    "    '10000': 0,\n",
    "    '5000': 0,\n",
    "    '2000': 0,\n",
    "    '1000': 0,\n",
    "    '500': 0,\n",
    "    '100': 0,\n",
    "    '50': 0,\n",
    "    '20': 0,\n",
    "    '10': 0,\n",
    "    '5': 0,\n",
    "    '2': 0,\n",
    "    '1': 0\n",
    "}\n",
    "\n",
    "uang_lembar = [100000, 50000, 20000, 10000, 5000, 2000, 1000, 500, 100, 50, 20, 10, 5, 2, 1]\n",
    "\n",
    "for uang in uang_lembar:\n",
    "    if kembalian >= uang:\n",
    "        besaran_uang[str(uang)] = int(kembalian / uang)\n",
    "        kembalian %= uang\n",
    "\n",
    "# Menampilkan besaran uang lembar dari kembalian\n",
    "print(\"Besaran uang lembar dari kembalian:\")\n",
    "for uang, jumlah in besaran_uang.items():\n",
    "    if jumlah > 0:\n",
    "        print(f\"{jumlah} lembar uang {uang} IDR\")\n"
   ]
  }
 ],
 "metadata": {
  "kernelspec": {
   "display_name": "Python 3 (ipykernel)",
   "language": "python",
   "name": "python3"
  },
  "language_info": {
   "codemirror_mode": {
    "name": "ipython",
    "version": 3
   },
   "file_extension": ".py",
   "mimetype": "text/x-python",
   "name": "python",
   "nbconvert_exporter": "python",
   "pygments_lexer": "ipython3",
   "version": "3.10.11"
  },
  "orig_nbformat": 4
 },
 "nbformat": 4,
 "nbformat_minor": 2
}
